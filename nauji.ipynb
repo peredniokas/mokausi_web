{
 "cells": [
  {
   "cell_type": "code",
   "execution_count": null,
   "metadata": {},
   "outputs": [],
   "source": []
  }
 ],
 "metadata": {
  "kernelspec": {
   "display_name": "Python 3.9.14 ('env': venv)",
   "language": "python",
   "name": "python3"
  },
  "language_info": {
   "name": "python",
   "version": "3.9.14"
  },
  "orig_nbformat": 4,
  "vscode": {
   "interpreter": {
    "hash": "1fea4701d924eddbb972b98310feaa654c063bfb5e50b051a870cba73f9a61bc"
   }
  }
 },
 "nbformat": 4,
 "nbformat_minor": 2
}
