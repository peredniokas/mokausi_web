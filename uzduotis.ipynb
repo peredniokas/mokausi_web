{
 "cells": [
  {
   "cell_type": "code",
   "execution_count": 2,
   "metadata": {},
   "outputs": [
    {
     "name": "stdout",
     "output_type": "stream",
     "text": [
      "\n",
      " “There are only two ways to live your life. One is as though nothing is a miracle. The other is as though everything is a miracle.”\n",
      "A.E.\n",
      "Born: March 14, 1879 in Ulm, Germany\n"
     ]
    }
   ],
   "source": [
    "import requests\n",
    "from bs4 import BeautifulSoup\n",
    "from time import sleep\n",
    "from random import randint\n",
    "\n",
    "\n",
    "url = 'http://quotes.toscrape.com'\n",
    "r = requests.get(url)\n",
    "\n",
    "soup = BeautifulSoup(r.text, \"html.parser\")\n",
    "\n",
    "# citatos\n",
    "quotes_spans = soup.select('.text')\n",
    "quotes_list = [i.get_text() for i in quotes_spans]\n",
    "\n",
    "# nuorodos\n",
    "a_blocks = soup.find_all('a', attrs={'class': None})\n",
    "hrefs = [i['href'] for i in a_blocks if i.get_text()==\"(about)\"]\n",
    "\n",
    "# atsakymai\n",
    "author_blocks = soup.find_all('small', class_='author')\n",
    "answers = [i.get_text() for i in author_blocks]\n",
    "\n",
    "# uzuominos1\n",
    "hints1 = []\n",
    "for i in answers:\n",
    "    splitted = i.split()\n",
    "    hint = ''\n",
    "    for i in splitted:\n",
    "        if '.' not in i:\n",
    "            hint += f'{i[0]}.'\n",
    "        else:\n",
    "            hint += i\n",
    "    hints1.append(hint)\n",
    "\n",
    "# uzuominos2\n",
    "def get_second_hint(i):\n",
    "    r = requests.get(url + hrefs[i])\n",
    "    soup = BeautifulSoup(r.text, \"html.parser\")\n",
    "    text = soup.select('p')[1].get_text()\n",
    "    return text\n",
    "\n",
    "# žaidimo ciklas\n",
    "while True:\n",
    "    i = randint(1,10)\n",
    "    print('\\n',quotes_list[i])\n",
    "    answer1 = input('Your answer: ')\n",
    "    if answer1 != answers[i]:\n",
    "        print(hints1[i])\n",
    "        answer2 = input('Your answer: ')\n",
    "        if answer2 != answers[i]:\n",
    "            print(get_second_hint(i))\n",
    "            answer3 = input('Your answer: ')\n",
    "            if answer3 != answers[i]:\n",
    "                if_continue = input(f'Correct answer is {answers[i]}. Continue? y/n: ')\n",
    "                if if_continue == 'y':\n",
    "                    continue\n",
    "                else:\n",
    "                    break"
   ]
  }
 ],
 "metadata": {
  "kernelspec": {
   "display_name": "Python 3.9.14 ('env': venv)",
   "language": "python",
   "name": "python3"
  },
  "language_info": {
   "codemirror_mode": {
    "name": "ipython",
    "version": 3
   },
   "file_extension": ".py",
   "mimetype": "text/x-python",
   "name": "python",
   "nbconvert_exporter": "python",
   "pygments_lexer": "ipython3",
   "version": "3.9.14"
  },
  "orig_nbformat": 4,
  "vscode": {
   "interpreter": {
    "hash": "1fea4701d924eddbb972b98310feaa654c063bfb5e50b051a870cba73f9a61bc"
   }
  }
 },
 "nbformat": 4,
 "nbformat_minor": 2
}
